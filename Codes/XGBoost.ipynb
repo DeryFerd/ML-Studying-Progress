{
  "nbformat": 4,
  "nbformat_minor": 0,
  "metadata": {
    "colab": {
      "provenance": [],
      "toc_visible": true,
      "authorship_tag": "ABX9TyPS7+XOCacTnWVvhlrOc7Pq",
      "include_colab_link": true
    },
    "kernelspec": {
      "name": "python3",
      "display_name": "Python 3"
    },
    "language_info": {
      "name": "python"
    }
  },
  "cells": [
    {
      "cell_type": "markdown",
      "metadata": {
        "id": "view-in-github",
        "colab_type": "text"
      },
      "source": [
        "<a href=\"https://colab.research.google.com/github/DeryFerd/Machine-Learning-Project/blob/main/Codes/XGBoost.ipynb\" target=\"_parent\"><img src=\"https://colab.research.google.com/assets/colab-badge.svg\" alt=\"Open In Colab\"/></a>"
      ]
    },
    {
      "cell_type": "markdown",
      "source": [
        "# Import Library"
      ],
      "metadata": {
        "id": "ZgmhgbdHvewa"
      }
    },
    {
      "cell_type": "code",
      "execution_count": 1,
      "metadata": {
        "id": "034InhFXGlF5"
      },
      "outputs": [],
      "source": [
        "import pandas as pd\n",
        "import numpy as np\n",
        "import seaborn as sns\n",
        "import matplotlib.pyplot as plt\n",
        "import matplotlib.ticker as ticker"
      ]
    },
    {
      "cell_type": "markdown",
      "source": [
        "# Load Dataset"
      ],
      "metadata": {
        "id": "7ZhatVw8vho7"
      }
    },
    {
      "cell_type": "code",
      "source": [
        "df = pd.read_csv(\"https://bit.ly/3XSpt0Y\")\n",
        "print('Total Row : ', len(df))\n",
        "df.head()"
      ],
      "metadata": {
        "id": "hgfMm6t0yAUC",
        "colab": {
          "base_uri": "https://localhost:8080/",
          "height": 224
        },
        "outputId": "922fce8a-40c3-449a-d24b-fc970ae89c83"
      },
      "execution_count": 2,
      "outputs": [
        {
          "output_type": "stream",
          "name": "stdout",
          "text": [
            "Total Row :  924\n"
          ]
        },
        {
          "output_type": "execute_result",
          "data": {
            "text/plain": [
              "   Unnamed: 0                                 Address      Zip     Price  \\\n",
              "0           1            Blasiusstraat 8 2, Amsterdam  1091 CR  685000.0   \n",
              "1           2  Kromme Leimuidenstraat 13 H, Amsterdam  1059 EL  475000.0   \n",
              "2           3              Zaaiersweg 11 A, Amsterdam  1097 SM  850000.0   \n",
              "3           4            Tenerifestraat 40, Amsterdam  1060 TH  580000.0   \n",
              "4           5              Winterjanpad 21, Amsterdam  1036 KN  720000.0   \n",
              "\n",
              "   Area  Room       Lon        Lat  \n",
              "0    64     3  4.907736  52.356157  \n",
              "1    60     3  4.850476  52.348586  \n",
              "2   109     4  4.944774  52.343782  \n",
              "3   128     6  4.789928  52.343712  \n",
              "4   138     5  4.902503  52.410538  "
            ],
            "text/html": [
              "\n",
              "\n",
              "  <div id=\"df-b5ed2bef-94b7-4ad8-ad48-ad467324b3ce\">\n",
              "    <div class=\"colab-df-container\">\n",
              "      <div>\n",
              "<style scoped>\n",
              "    .dataframe tbody tr th:only-of-type {\n",
              "        vertical-align: middle;\n",
              "    }\n",
              "\n",
              "    .dataframe tbody tr th {\n",
              "        vertical-align: top;\n",
              "    }\n",
              "\n",
              "    .dataframe thead th {\n",
              "        text-align: right;\n",
              "    }\n",
              "</style>\n",
              "<table border=\"1\" class=\"dataframe\">\n",
              "  <thead>\n",
              "    <tr style=\"text-align: right;\">\n",
              "      <th></th>\n",
              "      <th>Unnamed: 0</th>\n",
              "      <th>Address</th>\n",
              "      <th>Zip</th>\n",
              "      <th>Price</th>\n",
              "      <th>Area</th>\n",
              "      <th>Room</th>\n",
              "      <th>Lon</th>\n",
              "      <th>Lat</th>\n",
              "    </tr>\n",
              "  </thead>\n",
              "  <tbody>\n",
              "    <tr>\n",
              "      <th>0</th>\n",
              "      <td>1</td>\n",
              "      <td>Blasiusstraat 8 2, Amsterdam</td>\n",
              "      <td>1091 CR</td>\n",
              "      <td>685000.0</td>\n",
              "      <td>64</td>\n",
              "      <td>3</td>\n",
              "      <td>4.907736</td>\n",
              "      <td>52.356157</td>\n",
              "    </tr>\n",
              "    <tr>\n",
              "      <th>1</th>\n",
              "      <td>2</td>\n",
              "      <td>Kromme Leimuidenstraat 13 H, Amsterdam</td>\n",
              "      <td>1059 EL</td>\n",
              "      <td>475000.0</td>\n",
              "      <td>60</td>\n",
              "      <td>3</td>\n",
              "      <td>4.850476</td>\n",
              "      <td>52.348586</td>\n",
              "    </tr>\n",
              "    <tr>\n",
              "      <th>2</th>\n",
              "      <td>3</td>\n",
              "      <td>Zaaiersweg 11 A, Amsterdam</td>\n",
              "      <td>1097 SM</td>\n",
              "      <td>850000.0</td>\n",
              "      <td>109</td>\n",
              "      <td>4</td>\n",
              "      <td>4.944774</td>\n",
              "      <td>52.343782</td>\n",
              "    </tr>\n",
              "    <tr>\n",
              "      <th>3</th>\n",
              "      <td>4</td>\n",
              "      <td>Tenerifestraat 40, Amsterdam</td>\n",
              "      <td>1060 TH</td>\n",
              "      <td>580000.0</td>\n",
              "      <td>128</td>\n",
              "      <td>6</td>\n",
              "      <td>4.789928</td>\n",
              "      <td>52.343712</td>\n",
              "    </tr>\n",
              "    <tr>\n",
              "      <th>4</th>\n",
              "      <td>5</td>\n",
              "      <td>Winterjanpad 21, Amsterdam</td>\n",
              "      <td>1036 KN</td>\n",
              "      <td>720000.0</td>\n",
              "      <td>138</td>\n",
              "      <td>5</td>\n",
              "      <td>4.902503</td>\n",
              "      <td>52.410538</td>\n",
              "    </tr>\n",
              "  </tbody>\n",
              "</table>\n",
              "</div>\n",
              "      <button class=\"colab-df-convert\" onclick=\"convertToInteractive('df-b5ed2bef-94b7-4ad8-ad48-ad467324b3ce')\"\n",
              "              title=\"Convert this dataframe to an interactive table.\"\n",
              "              style=\"display:none;\">\n",
              "\n",
              "  <svg xmlns=\"http://www.w3.org/2000/svg\" height=\"24px\"viewBox=\"0 0 24 24\"\n",
              "       width=\"24px\">\n",
              "    <path d=\"M0 0h24v24H0V0z\" fill=\"none\"/>\n",
              "    <path d=\"M18.56 5.44l.94 2.06.94-2.06 2.06-.94-2.06-.94-.94-2.06-.94 2.06-2.06.94zm-11 1L8.5 8.5l.94-2.06 2.06-.94-2.06-.94L8.5 2.5l-.94 2.06-2.06.94zm10 10l.94 2.06.94-2.06 2.06-.94-2.06-.94-.94-2.06-.94 2.06-2.06.94z\"/><path d=\"M17.41 7.96l-1.37-1.37c-.4-.4-.92-.59-1.43-.59-.52 0-1.04.2-1.43.59L10.3 9.45l-7.72 7.72c-.78.78-.78 2.05 0 2.83L4 21.41c.39.39.9.59 1.41.59.51 0 1.02-.2 1.41-.59l7.78-7.78 2.81-2.81c.8-.78.8-2.07 0-2.86zM5.41 20L4 18.59l7.72-7.72 1.47 1.35L5.41 20z\"/>\n",
              "  </svg>\n",
              "      </button>\n",
              "\n",
              "\n",
              "\n",
              "    <div id=\"df-d1b3a845-813a-438e-8f01-e5c078316b9c\">\n",
              "      <button class=\"colab-df-quickchart\" onclick=\"quickchart('df-d1b3a845-813a-438e-8f01-e5c078316b9c')\"\n",
              "              title=\"Suggest charts.\"\n",
              "              style=\"display:none;\">\n",
              "\n",
              "<svg xmlns=\"http://www.w3.org/2000/svg\" height=\"24px\"viewBox=\"0 0 24 24\"\n",
              "     width=\"24px\">\n",
              "    <g>\n",
              "        <path d=\"M19 3H5c-1.1 0-2 .9-2 2v14c0 1.1.9 2 2 2h14c1.1 0 2-.9 2-2V5c0-1.1-.9-2-2-2zM9 17H7v-7h2v7zm4 0h-2V7h2v10zm4 0h-2v-4h2v4z\"/>\n",
              "    </g>\n",
              "</svg>\n",
              "      </button>\n",
              "    </div>\n",
              "\n",
              "<style>\n",
              "  .colab-df-quickchart {\n",
              "    background-color: #E8F0FE;\n",
              "    border: none;\n",
              "    border-radius: 50%;\n",
              "    cursor: pointer;\n",
              "    display: none;\n",
              "    fill: #1967D2;\n",
              "    height: 32px;\n",
              "    padding: 0 0 0 0;\n",
              "    width: 32px;\n",
              "  }\n",
              "\n",
              "  .colab-df-quickchart:hover {\n",
              "    background-color: #E2EBFA;\n",
              "    box-shadow: 0px 1px 2px rgba(60, 64, 67, 0.3), 0px 1px 3px 1px rgba(60, 64, 67, 0.15);\n",
              "    fill: #174EA6;\n",
              "  }\n",
              "\n",
              "  [theme=dark] .colab-df-quickchart {\n",
              "    background-color: #3B4455;\n",
              "    fill: #D2E3FC;\n",
              "  }\n",
              "\n",
              "  [theme=dark] .colab-df-quickchart:hover {\n",
              "    background-color: #434B5C;\n",
              "    box-shadow: 0px 1px 3px 1px rgba(0, 0, 0, 0.15);\n",
              "    filter: drop-shadow(0px 1px 2px rgba(0, 0, 0, 0.3));\n",
              "    fill: #FFFFFF;\n",
              "  }\n",
              "</style>\n",
              "\n",
              "    <script>\n",
              "      async function quickchart(key) {\n",
              "        const containerElement = document.querySelector('#' + key);\n",
              "        const charts = await google.colab.kernel.invokeFunction(\n",
              "            'suggestCharts', [key], {});\n",
              "      }\n",
              "    </script>\n",
              "\n",
              "      <script>\n",
              "\n",
              "function displayQuickchartButton(domScope) {\n",
              "  let quickchartButtonEl =\n",
              "    domScope.querySelector('#df-d1b3a845-813a-438e-8f01-e5c078316b9c button.colab-df-quickchart');\n",
              "  quickchartButtonEl.style.display =\n",
              "    google.colab.kernel.accessAllowed ? 'block' : 'none';\n",
              "}\n",
              "\n",
              "        displayQuickchartButton(document);\n",
              "      </script>\n",
              "      <style>\n",
              "    .colab-df-container {\n",
              "      display:flex;\n",
              "      flex-wrap:wrap;\n",
              "      gap: 12px;\n",
              "    }\n",
              "\n",
              "    .colab-df-convert {\n",
              "      background-color: #E8F0FE;\n",
              "      border: none;\n",
              "      border-radius: 50%;\n",
              "      cursor: pointer;\n",
              "      display: none;\n",
              "      fill: #1967D2;\n",
              "      height: 32px;\n",
              "      padding: 0 0 0 0;\n",
              "      width: 32px;\n",
              "    }\n",
              "\n",
              "    .colab-df-convert:hover {\n",
              "      background-color: #E2EBFA;\n",
              "      box-shadow: 0px 1px 2px rgba(60, 64, 67, 0.3), 0px 1px 3px 1px rgba(60, 64, 67, 0.15);\n",
              "      fill: #174EA6;\n",
              "    }\n",
              "\n",
              "    [theme=dark] .colab-df-convert {\n",
              "      background-color: #3B4455;\n",
              "      fill: #D2E3FC;\n",
              "    }\n",
              "\n",
              "    [theme=dark] .colab-df-convert:hover {\n",
              "      background-color: #434B5C;\n",
              "      box-shadow: 0px 1px 3px 1px rgba(0, 0, 0, 0.15);\n",
              "      filter: drop-shadow(0px 1px 2px rgba(0, 0, 0, 0.3));\n",
              "      fill: #FFFFFF;\n",
              "    }\n",
              "  </style>\n",
              "\n",
              "      <script>\n",
              "        const buttonEl =\n",
              "          document.querySelector('#df-b5ed2bef-94b7-4ad8-ad48-ad467324b3ce button.colab-df-convert');\n",
              "        buttonEl.style.display =\n",
              "          google.colab.kernel.accessAllowed ? 'block' : 'none';\n",
              "\n",
              "        async function convertToInteractive(key) {\n",
              "          const element = document.querySelector('#df-b5ed2bef-94b7-4ad8-ad48-ad467324b3ce');\n",
              "          const dataTable =\n",
              "            await google.colab.kernel.invokeFunction('convertToInteractive',\n",
              "                                                     [key], {});\n",
              "          if (!dataTable) return;\n",
              "\n",
              "          const docLinkHtml = 'Like what you see? Visit the ' +\n",
              "            '<a target=\"_blank\" href=https://colab.research.google.com/notebooks/data_table.ipynb>data table notebook</a>'\n",
              "            + ' to learn more about interactive tables.';\n",
              "          element.innerHTML = '';\n",
              "          dataTable['output_type'] = 'display_data';\n",
              "          await google.colab.output.renderOutput(dataTable, element);\n",
              "          const docLink = document.createElement('div');\n",
              "          docLink.innerHTML = docLinkHtml;\n",
              "          element.appendChild(docLink);\n",
              "        }\n",
              "      </script>\n",
              "    </div>\n",
              "  </div>\n"
            ]
          },
          "metadata": {},
          "execution_count": 2
        }
      ]
    },
    {
      "cell_type": "markdown",
      "source": [
        "# Data and Business Understanding"
      ],
      "metadata": {
        "id": "y2OThuVkvcWE"
      }
    },
    {
      "cell_type": "markdown",
      "source": [
        "Business Understanding:\n",
        "1. Is there a strong correlation between price and area and room?\n",
        "2. What is the distribution of house prices? Is there any relationship with the area?\n",
        "3. What is the highest number of rooms in the house price data?\n",
        "\n",
        "Dataset Explanation:\n",
        "\n",
        "The housing prices have been obtained from Pararius.nl as a snapshot in August 2021. The original data provided features such as price, floor area and the number of rooms. The data has been further enhanced by utilising the Mapbox API to obtain the coordinates of each listing.\n",
        "\n",
        "The target of this dataset is to predict the House Price based on their rooms and area.\n",
        "\n",
        "\n",
        "1. Address = Residential address.\n",
        "\n",
        "2. Zip = Residential Zip code.\n",
        "\n",
        "3. Price = Residential price in Euros.\n",
        "\n",
        "4. Area = Residential area in square meters.\n",
        "\n",
        "5. Room = Number of rooms at residence.\n",
        "\n",
        "6. Lon = Longitude coordinates.\n",
        "\n",
        "7. Lat = Latitude coordinates."
      ],
      "metadata": {
        "id": "HbkzurMVv3Zh"
      }
    },
    {
      "cell_type": "markdown",
      "source": [
        "# Data Preprocessing"
      ],
      "metadata": {
        "id": "eH8-j84NwrNw"
      }
    },
    {
      "cell_type": "code",
      "source": [
        "df.info()"
      ],
      "metadata": {
        "colab": {
          "base_uri": "https://localhost:8080/"
        },
        "id": "ZQ6IdAEhxp5x",
        "outputId": "e150d02e-6277-470f-a370-5a30ecd85f45"
      },
      "execution_count": 3,
      "outputs": [
        {
          "output_type": "stream",
          "name": "stdout",
          "text": [
            "<class 'pandas.core.frame.DataFrame'>\n",
            "RangeIndex: 924 entries, 0 to 923\n",
            "Data columns (total 8 columns):\n",
            " #   Column      Non-Null Count  Dtype  \n",
            "---  ------      --------------  -----  \n",
            " 0   Unnamed: 0  924 non-null    int64  \n",
            " 1   Address     924 non-null    object \n",
            " 2   Zip         924 non-null    object \n",
            " 3   Price       920 non-null    float64\n",
            " 4   Area        924 non-null    int64  \n",
            " 5   Room        924 non-null    int64  \n",
            " 6   Lon         924 non-null    float64\n",
            " 7   Lat         924 non-null    float64\n",
            "dtypes: float64(3), int64(3), object(2)\n",
            "memory usage: 57.9+ KB\n"
          ]
        }
      ]
    },
    {
      "cell_type": "markdown",
      "source": [
        "## Missing Values Handling"
      ],
      "metadata": {
        "id": "5OBnDQIXP5De"
      }
    },
    {
      "cell_type": "code",
      "source": [
        "df.isnull().sum()"
      ],
      "metadata": {
        "colab": {
          "base_uri": "https://localhost:8080/"
        },
        "id": "Q33vSvwiwc8w",
        "outputId": "1c487774-ea1e-49a9-9c34-c810d41df502"
      },
      "execution_count": 4,
      "outputs": [
        {
          "output_type": "execute_result",
          "data": {
            "text/plain": [
              "Unnamed: 0    0\n",
              "Address       0\n",
              "Zip           0\n",
              "Price         4\n",
              "Area          0\n",
              "Room          0\n",
              "Lon           0\n",
              "Lat           0\n",
              "dtype: int64"
            ]
          },
          "metadata": {},
          "execution_count": 4
        }
      ]
    },
    {
      "cell_type": "markdown",
      "source": [
        "we have 4 missing values in price column. Since the missing values are low, we will remove the rows that contain those missing values."
      ],
      "metadata": {
        "id": "1i9ux6-yP9T_"
      }
    },
    {
      "cell_type": "code",
      "source": [
        "df = df.dropna(subset=['Price'])"
      ],
      "metadata": {
        "id": "3Yj-TtAAxtKx"
      },
      "execution_count": 5,
      "outputs": []
    },
    {
      "cell_type": "code",
      "source": [
        "df.isnull().sum()"
      ],
      "metadata": {
        "colab": {
          "base_uri": "https://localhost:8080/"
        },
        "id": "cRR5N0nuyky1",
        "outputId": "0ce0363e-866d-46c6-ed7e-38658419afed"
      },
      "execution_count": 6,
      "outputs": [
        {
          "output_type": "execute_result",
          "data": {
            "text/plain": [
              "Unnamed: 0    0\n",
              "Address       0\n",
              "Zip           0\n",
              "Price         0\n",
              "Area          0\n",
              "Room          0\n",
              "Lon           0\n",
              "Lat           0\n",
              "dtype: int64"
            ]
          },
          "metadata": {},
          "execution_count": 6
        }
      ]
    },
    {
      "cell_type": "markdown",
      "source": [
        "## Change Datatype"
      ],
      "metadata": {
        "id": "_ojxlr_uVMMr"
      }
    },
    {
      "cell_type": "code",
      "source": [
        "df['Price'] = df['Price'].astype('int64')"
      ],
      "metadata": {
        "id": "HnrFWaU8zk3w"
      },
      "execution_count": 7,
      "outputs": []
    },
    {
      "cell_type": "markdown",
      "source": [
        "to make processing data easier, we change the Price column from float64 to int64 (integer)."
      ],
      "metadata": {
        "id": "CNk6d58EQa0u"
      }
    },
    {
      "cell_type": "code",
      "source": [
        "df.info()"
      ],
      "metadata": {
        "colab": {
          "base_uri": "https://localhost:8080/"
        },
        "id": "J7PqWYPlz39w",
        "outputId": "b78da02d-7875-434b-c5cc-54a22bd9fa8f"
      },
      "execution_count": 8,
      "outputs": [
        {
          "output_type": "stream",
          "name": "stdout",
          "text": [
            "<class 'pandas.core.frame.DataFrame'>\n",
            "Int64Index: 920 entries, 0 to 923\n",
            "Data columns (total 8 columns):\n",
            " #   Column      Non-Null Count  Dtype  \n",
            "---  ------      --------------  -----  \n",
            " 0   Unnamed: 0  920 non-null    int64  \n",
            " 1   Address     920 non-null    object \n",
            " 2   Zip         920 non-null    object \n",
            " 3   Price       920 non-null    int64  \n",
            " 4   Area        920 non-null    int64  \n",
            " 5   Room        920 non-null    int64  \n",
            " 6   Lon         920 non-null    float64\n",
            " 7   Lat         920 non-null    float64\n",
            "dtypes: float64(2), int64(4), object(2)\n",
            "memory usage: 64.7+ KB\n"
          ]
        }
      ]
    },
    {
      "cell_type": "code",
      "source": [
        "columns_to_drop = ['Unnamed: 0', 'Address', 'Zip', 'Lon', 'Lat']\n",
        "data = df.drop(columns_to_drop, axis=1)\n",
        "data.head()"
      ],
      "metadata": {
        "colab": {
          "base_uri": "https://localhost:8080/",
          "height": 206
        },
        "id": "1FJlBid6yJJ1",
        "outputId": "6b0e62dc-c153-4708-f4b5-a1e055239e6e"
      },
      "execution_count": 9,
      "outputs": [
        {
          "output_type": "execute_result",
          "data": {
            "text/plain": [
              "    Price  Area  Room\n",
              "0  685000    64     3\n",
              "1  475000    60     3\n",
              "2  850000   109     4\n",
              "3  580000   128     6\n",
              "4  720000   138     5"
            ],
            "text/html": [
              "\n",
              "\n",
              "  <div id=\"df-a2f5357e-a685-466a-b996-418c19a6220d\">\n",
              "    <div class=\"colab-df-container\">\n",
              "      <div>\n",
              "<style scoped>\n",
              "    .dataframe tbody tr th:only-of-type {\n",
              "        vertical-align: middle;\n",
              "    }\n",
              "\n",
              "    .dataframe tbody tr th {\n",
              "        vertical-align: top;\n",
              "    }\n",
              "\n",
              "    .dataframe thead th {\n",
              "        text-align: right;\n",
              "    }\n",
              "</style>\n",
              "<table border=\"1\" class=\"dataframe\">\n",
              "  <thead>\n",
              "    <tr style=\"text-align: right;\">\n",
              "      <th></th>\n",
              "      <th>Price</th>\n",
              "      <th>Area</th>\n",
              "      <th>Room</th>\n",
              "    </tr>\n",
              "  </thead>\n",
              "  <tbody>\n",
              "    <tr>\n",
              "      <th>0</th>\n",
              "      <td>685000</td>\n",
              "      <td>64</td>\n",
              "      <td>3</td>\n",
              "    </tr>\n",
              "    <tr>\n",
              "      <th>1</th>\n",
              "      <td>475000</td>\n",
              "      <td>60</td>\n",
              "      <td>3</td>\n",
              "    </tr>\n",
              "    <tr>\n",
              "      <th>2</th>\n",
              "      <td>850000</td>\n",
              "      <td>109</td>\n",
              "      <td>4</td>\n",
              "    </tr>\n",
              "    <tr>\n",
              "      <th>3</th>\n",
              "      <td>580000</td>\n",
              "      <td>128</td>\n",
              "      <td>6</td>\n",
              "    </tr>\n",
              "    <tr>\n",
              "      <th>4</th>\n",
              "      <td>720000</td>\n",
              "      <td>138</td>\n",
              "      <td>5</td>\n",
              "    </tr>\n",
              "  </tbody>\n",
              "</table>\n",
              "</div>\n",
              "      <button class=\"colab-df-convert\" onclick=\"convertToInteractive('df-a2f5357e-a685-466a-b996-418c19a6220d')\"\n",
              "              title=\"Convert this dataframe to an interactive table.\"\n",
              "              style=\"display:none;\">\n",
              "\n",
              "  <svg xmlns=\"http://www.w3.org/2000/svg\" height=\"24px\"viewBox=\"0 0 24 24\"\n",
              "       width=\"24px\">\n",
              "    <path d=\"M0 0h24v24H0V0z\" fill=\"none\"/>\n",
              "    <path d=\"M18.56 5.44l.94 2.06.94-2.06 2.06-.94-2.06-.94-.94-2.06-.94 2.06-2.06.94zm-11 1L8.5 8.5l.94-2.06 2.06-.94-2.06-.94L8.5 2.5l-.94 2.06-2.06.94zm10 10l.94 2.06.94-2.06 2.06-.94-2.06-.94-.94-2.06-.94 2.06-2.06.94z\"/><path d=\"M17.41 7.96l-1.37-1.37c-.4-.4-.92-.59-1.43-.59-.52 0-1.04.2-1.43.59L10.3 9.45l-7.72 7.72c-.78.78-.78 2.05 0 2.83L4 21.41c.39.39.9.59 1.41.59.51 0 1.02-.2 1.41-.59l7.78-7.78 2.81-2.81c.8-.78.8-2.07 0-2.86zM5.41 20L4 18.59l7.72-7.72 1.47 1.35L5.41 20z\"/>\n",
              "  </svg>\n",
              "      </button>\n",
              "\n",
              "\n",
              "\n",
              "    <div id=\"df-bc174c85-bfd2-460d-b815-9b8290505d5d\">\n",
              "      <button class=\"colab-df-quickchart\" onclick=\"quickchart('df-bc174c85-bfd2-460d-b815-9b8290505d5d')\"\n",
              "              title=\"Suggest charts.\"\n",
              "              style=\"display:none;\">\n",
              "\n",
              "<svg xmlns=\"http://www.w3.org/2000/svg\" height=\"24px\"viewBox=\"0 0 24 24\"\n",
              "     width=\"24px\">\n",
              "    <g>\n",
              "        <path d=\"M19 3H5c-1.1 0-2 .9-2 2v14c0 1.1.9 2 2 2h14c1.1 0 2-.9 2-2V5c0-1.1-.9-2-2-2zM9 17H7v-7h2v7zm4 0h-2V7h2v10zm4 0h-2v-4h2v4z\"/>\n",
              "    </g>\n",
              "</svg>\n",
              "      </button>\n",
              "    </div>\n",
              "\n",
              "<style>\n",
              "  .colab-df-quickchart {\n",
              "    background-color: #E8F0FE;\n",
              "    border: none;\n",
              "    border-radius: 50%;\n",
              "    cursor: pointer;\n",
              "    display: none;\n",
              "    fill: #1967D2;\n",
              "    height: 32px;\n",
              "    padding: 0 0 0 0;\n",
              "    width: 32px;\n",
              "  }\n",
              "\n",
              "  .colab-df-quickchart:hover {\n",
              "    background-color: #E2EBFA;\n",
              "    box-shadow: 0px 1px 2px rgba(60, 64, 67, 0.3), 0px 1px 3px 1px rgba(60, 64, 67, 0.15);\n",
              "    fill: #174EA6;\n",
              "  }\n",
              "\n",
              "  [theme=dark] .colab-df-quickchart {\n",
              "    background-color: #3B4455;\n",
              "    fill: #D2E3FC;\n",
              "  }\n",
              "\n",
              "  [theme=dark] .colab-df-quickchart:hover {\n",
              "    background-color: #434B5C;\n",
              "    box-shadow: 0px 1px 3px 1px rgba(0, 0, 0, 0.15);\n",
              "    filter: drop-shadow(0px 1px 2px rgba(0, 0, 0, 0.3));\n",
              "    fill: #FFFFFF;\n",
              "  }\n",
              "</style>\n",
              "\n",
              "    <script>\n",
              "      async function quickchart(key) {\n",
              "        const containerElement = document.querySelector('#' + key);\n",
              "        const charts = await google.colab.kernel.invokeFunction(\n",
              "            'suggestCharts', [key], {});\n",
              "      }\n",
              "    </script>\n",
              "\n",
              "      <script>\n",
              "\n",
              "function displayQuickchartButton(domScope) {\n",
              "  let quickchartButtonEl =\n",
              "    domScope.querySelector('#df-bc174c85-bfd2-460d-b815-9b8290505d5d button.colab-df-quickchart');\n",
              "  quickchartButtonEl.style.display =\n",
              "    google.colab.kernel.accessAllowed ? 'block' : 'none';\n",
              "}\n",
              "\n",
              "        displayQuickchartButton(document);\n",
              "      </script>\n",
              "      <style>\n",
              "    .colab-df-container {\n",
              "      display:flex;\n",
              "      flex-wrap:wrap;\n",
              "      gap: 12px;\n",
              "    }\n",
              "\n",
              "    .colab-df-convert {\n",
              "      background-color: #E8F0FE;\n",
              "      border: none;\n",
              "      border-radius: 50%;\n",
              "      cursor: pointer;\n",
              "      display: none;\n",
              "      fill: #1967D2;\n",
              "      height: 32px;\n",
              "      padding: 0 0 0 0;\n",
              "      width: 32px;\n",
              "    }\n",
              "\n",
              "    .colab-df-convert:hover {\n",
              "      background-color: #E2EBFA;\n",
              "      box-shadow: 0px 1px 2px rgba(60, 64, 67, 0.3), 0px 1px 3px 1px rgba(60, 64, 67, 0.15);\n",
              "      fill: #174EA6;\n",
              "    }\n",
              "\n",
              "    [theme=dark] .colab-df-convert {\n",
              "      background-color: #3B4455;\n",
              "      fill: #D2E3FC;\n",
              "    }\n",
              "\n",
              "    [theme=dark] .colab-df-convert:hover {\n",
              "      background-color: #434B5C;\n",
              "      box-shadow: 0px 1px 3px 1px rgba(0, 0, 0, 0.15);\n",
              "      filter: drop-shadow(0px 1px 2px rgba(0, 0, 0, 0.3));\n",
              "      fill: #FFFFFF;\n",
              "    }\n",
              "  </style>\n",
              "\n",
              "      <script>\n",
              "        const buttonEl =\n",
              "          document.querySelector('#df-a2f5357e-a685-466a-b996-418c19a6220d button.colab-df-convert');\n",
              "        buttonEl.style.display =\n",
              "          google.colab.kernel.accessAllowed ? 'block' : 'none';\n",
              "\n",
              "        async function convertToInteractive(key) {\n",
              "          const element = document.querySelector('#df-a2f5357e-a685-466a-b996-418c19a6220d');\n",
              "          const dataTable =\n",
              "            await google.colab.kernel.invokeFunction('convertToInteractive',\n",
              "                                                     [key], {});\n",
              "          if (!dataTable) return;\n",
              "\n",
              "          const docLinkHtml = 'Like what you see? Visit the ' +\n",
              "            '<a target=\"_blank\" href=https://colab.research.google.com/notebooks/data_table.ipynb>data table notebook</a>'\n",
              "            + ' to learn more about interactive tables.';\n",
              "          element.innerHTML = '';\n",
              "          dataTable['output_type'] = 'display_data';\n",
              "          await google.colab.output.renderOutput(dataTable, element);\n",
              "          const docLink = document.createElement('div');\n",
              "          docLink.innerHTML = docLinkHtml;\n",
              "          element.appendChild(docLink);\n",
              "        }\n",
              "      </script>\n",
              "    </div>\n",
              "  </div>\n"
            ]
          },
          "metadata": {},
          "execution_count": 9
        }
      ]
    },
    {
      "cell_type": "markdown",
      "source": [
        "we remove unnecessary columns such as address, zip, lon, lat, and unnamed column."
      ],
      "metadata": {
        "id": "Gr7aK_aWQm5e"
      }
    },
    {
      "cell_type": "markdown",
      "source": [
        "# Exploratory Data Analysis"
      ],
      "metadata": {
        "id": "_P4H6N9Ny9P1"
      }
    },
    {
      "cell_type": "markdown",
      "source": [
        "## Correlation"
      ],
      "metadata": {
        "id": "QCUe576iVpuX"
      }
    },
    {
      "cell_type": "code",
      "source": [
        "plt.figure(figsize=(14, 8))\n",
        "sns.heatmap(data.corr(), annot=True, fmt='.2f')"
      ],
      "metadata": {
        "colab": {
          "base_uri": "https://localhost:8080/",
          "height": 639
        },
        "id": "_5ycDq33zAV9",
        "outputId": "5a118acb-0b9c-4d51-cd3e-79dd140ce422"
      },
      "execution_count": 10,
      "outputs": [
        {
          "output_type": "execute_result",
          "data": {
            "text/plain": [
              "<Axes: >"
            ]
          },
          "metadata": {},
          "execution_count": 10
        },
        {
          "output_type": "display_data",
          "data": {
            "text/plain": [
              "<Figure size 1400x800 with 2 Axes>"
            ],
            "image/png": "[encoded data removed]"
          },
          "metadata": {}
        }
      ]
    },
    {
      "cell_type": "markdown",
      "source": [
        "We can see that each variable has a strong correlation, and column with the highest correlation with Price is Area."
      ],
      "metadata": {
        "id": "_FcT8DbIQ0EV"
      }
    },
    {
      "cell_type": "markdown",
      "source": [
        "## Price Analysis"
      ],
      "metadata": {
        "id": "6QZRU5ZJVsrH"
      }
    },
    {
      "cell_type": "code",
      "source": [
        "sns.histplot(data=data, x='Price', kde=True)\n",
        "plt.xlabel('Price')\n",
        "plt.ylabel('Frequency')\n",
        "plt.title('Histogram of Price')\n",
        "\n",
        "plt.ticklabel_format(style='plain', axis='x')\n",
        "\n",
        "plt.show()"
      ],
      "metadata": {
        "colab": {
          "base_uri": "https://localhost:8080/",
          "height": 472
        },
        "id": "nO1kQVYvzCmj",
        "outputId": "8132c9e3-e54b-4fbe-85f7-0f7065eb8877"
      },
      "execution_count": 11,
      "outputs": [
        {
          "output_type": "display_data",
          "data": {
            "text/plain": [
              "<Figure size 640x480 with 1 Axes>"
            ],
            "image/png": "[encoded data removed]"
          },
          "metadata": {}
        }
      ]
    },
    {
      "cell_type": "markdown",
      "source": [
        "The distribution of house prices is spread below 1,000,000; with the peak being around 500,000."
      ],
      "metadata": {
        "id": "aQfPA_h1SV39"
      }
    },
    {
      "cell_type": "markdown",
      "source": [
        "## Room Analysis"
      ],
      "metadata": {
        "id": "zlFD7ovWVvtX"
      }
    },
    {
      "cell_type": "code",
      "source": [
        "sns.countplot(x = 'Room', data=data, palette='hls')\n",
        "plt.title('Countplot of Room')\n",
        "plt.show()\n",
        "plt.savefig('count plot')\n"
      ],
      "metadata": {
        "colab": {
          "base_uri": "https://localhost:8080/",
          "height": 489
        },
        "id": "gYFXl_nEzhpm",
        "outputId": "368db328-843b-4069-d871-4a53dca01133"
      },
      "execution_count": 12,
      "outputs": [
        {
          "output_type": "display_data",
          "data": {
            "text/plain": [
              "<Figure size 640x480 with 1 Axes>"
            ],
            "image/png": "[encoded data removed]"
          },
          "metadata": {}
        },
        {
          "output_type": "display_data",
          "data": {
            "text/plain": [
              "<Figure size 640x480 with 0 Axes>"
            ]
          },
          "metadata": {}
        }
      ]
    },
    {
      "cell_type": "markdown",
      "source": [
        "The highest number of rooms in this housing data is 3 rooms."
      ],
      "metadata": {
        "id": "j6XXhd3qS1uy"
      }
    },
    {
      "cell_type": "markdown",
      "source": [
        "## Area and Price Correlation"
      ],
      "metadata": {
        "id": "yose0iKJVx8n"
      }
    },
    {
      "cell_type": "code",
      "source": [
        "sns.scatterplot(data=data, x='Area', y='Price')\n",
        "plt.xlabel('Area')\n",
        "plt.ylabel('Price')\n",
        "plt.title('Scatter Plot: Area vs Price')\n",
        "\n",
        "plt.ticklabel_format(style='plain', axis='y')\n",
        "\n",
        "plt.show()"
      ],
      "metadata": {
        "colab": {
          "base_uri": "https://localhost:8080/",
          "height": 472
        },
        "id": "pVolaWuI0_Az",
        "outputId": "83af5327-dbcb-4f8c-b0cd-f009f736bd9d"
      },
      "execution_count": 13,
      "outputs": [
        {
          "output_type": "display_data",
          "data": {
            "text/plain": [
              "<Figure size 640x480 with 1 Axes>"
            ],
            "image/png": "[encoded data removed]"
          },
          "metadata": {}
        }
      ]
    },
    {
      "cell_type": "markdown",
      "source": [
        "From this visualization, we can assume that there is a linear relationship between the area and the price, where the larger the house area, the higher the price of the house."
      ],
      "metadata": {
        "id": "Eufr_TcCV6w5"
      }
    },
    {
      "cell_type": "markdown",
      "source": [
        "# Modelling"
      ],
      "metadata": {
        "id": "6C53b49sUw5Y"
      }
    },
    {
      "cell_type": "markdown",
      "source": [
        "## Split Train-Test Dataset"
      ],
      "metadata": {
        "id": "zkZp5zNGUzgN"
      }
    },
    {
      "cell_type": "code",
      "source": [
        "from sklearn.model_selection import train_test_split\n",
        "y = data['Price']\n",
        "X = data.drop(labels='Price', axis=1)\n",
        "\n",
        "X_train, X_test, y_train, y_test = train_test_split(X, y, test_size = 0.2, random_state = 0)"
      ],
      "metadata": {
        "id": "tgqH3vVCMVn8"
      },
      "execution_count": 14,
      "outputs": []
    },
    {
      "cell_type": "markdown",
      "source": [
        "We split the dataset into 80% for training and 20% for test."
      ],
      "metadata": {
        "id": "yY2tKEPTWFq3"
      }
    },
    {
      "cell_type": "markdown",
      "source": [
        "## XGBoost Model"
      ],
      "metadata": {
        "id": "7vAAhqB9U4_4"
      }
    },
    {
      "cell_type": "code",
      "source": [
        "import xgboost as xgb\n",
        "from sklearn.metrics import mean_squared_error, mean_absolute_error, r2_score\n",
        "\n",
        "# Membuat model XGBoost\n",
        "gbm = xgb.XGBRegressor(max_depth=3, n_estimators=300, learning_rate=0.05)\n",
        "\n",
        "# Melatih model pada data latih\n",
        "gbm.fit(X_train, y_train)\n",
        "\n",
        "# Melakukan prediksi pada data uji\n",
        "y_pred = gbm.predict(X_test)\n",
        "y_pred\n"
      ],
      "metadata": {
        "colab": {
          "base_uri": "https://localhost:8080/"
        },
        "id": "DCcO7fC0Mn9T",
        "outputId": "a4da2b95-4bf4-4ef9-8745-ee00712c5771"
      },
      "execution_count": 19,
      "outputs": [
        {
          "output_type": "execute_result",
          "data": {
            "text/plain": [
              "array([ 581107.1 ,  800154.5 ,  442271.2 ,  422205.66,  469782.28,\n",
              "       1763714.1 ,  744824.7 ,  490225.53, 1080610.1 , 1544610.2 ,\n",
              "        379088.34,  449679.75,  748347.25,  924873.4 ,  326563.28,\n",
              "        430365.44,  429625.25,  519246.94,  326563.28,  435830.84,\n",
              "        532466.  ,  396203.9 ,  400286.56,  581107.1 , 1770193.6 ,\n",
              "        379088.34,  850485.6 ,  326563.28,  246811.98, 1552733.  ,\n",
              "        425729.34,  761624.6 ,  594134.06,  606391.8 ,  365556.25,\n",
              "        347040.88,  326563.28,  945077.2 ,  467140.28,  915838.2 ,\n",
              "        469451.2 ,  402231.8 ,  375666.7 ,  326563.28,  429625.25,\n",
              "        347040.88,  291547.53, 1129374.6 ,  347040.88,  629417.  ,\n",
              "        365556.25,  382671.8 ,  446521.47,  542578.9 ,  536146.44,\n",
              "        375497.47,  469782.28,  379088.34,  392613.03,  449679.75,\n",
              "        519246.94,  429625.25, 1249754.  , 1015898.06, 1090431.8 ,\n",
              "        347040.88,  449679.75,  773219.6 ,  375666.7 ,  421691.78,\n",
              "        430365.44,  532466.  ,  681056.7 ,  326563.28,  365556.25,\n",
              "        376482.72,  598478.9 ,  441757.22,  457939.6 ,  892658.6 ,\n",
              "        457939.6 ,  382671.8 , 1763714.1 , 3966065.8 ,  396056.  ,\n",
              "        902862.44,  396203.9 ,  365556.25,  429296.53, 1129374.6 ,\n",
              "        490225.53,  347040.88,  457939.6 ,  469451.2 ,  847887.06,\n",
              "        429625.25,  392613.03,  905498.9 , 1090431.8 ,  382671.8 ,\n",
              "        392782.25,  581107.1 ,  590046.9 ,  457939.6 ,  773219.6 ,\n",
              "        828337.9 ,  486772.78,  590782.8 , 1346696.2 ,  905498.9 ,\n",
              "        364156.44,  450334.84,  890551.4 ,  469782.28,  396056.  ,\n",
              "        545362.44,  568083.3 ,  704644.44, 1417202.8 ,  402231.8 ,\n",
              "        491178.3 ,  429296.53,  469451.2 ,  594134.06,  469782.28,\n",
              "        666353.6 ,  581107.1 ,  441757.22,  441150.03,  347040.88,\n",
              "        490225.53,  435830.84, 1513265.5 ,  490225.53,  347040.88,\n",
              "       2058796.  ,  450334.84,  950961.3 ,  542578.9 ,  375666.7 ,\n",
              "       5647582.  ,  446521.47,  532916.06, 1179386.5 ,  490225.53,\n",
              "        953669.75,  347040.88, 1334534.  ,  287429.44,  393598.28,\n",
              "        291547.53,  392782.25,  429296.53,  429625.25, 1140670.2 ,\n",
              "        441757.22, 1140670.2 ,  396203.9 , 1081940.8 ,  382671.8 ,\n",
              "        467140.28,  430365.44,  457939.6 ,  469782.28,  246811.98,\n",
              "        375666.7 ,  429296.53,  606391.8 ,  392782.25,  382671.8 ,\n",
              "        430365.44, 1020530.2 ,  959536.56,  365556.25,  365556.25,\n",
              "        995316.06,  932434.75,  469782.28, 1417202.8 ,  590782.8 ,\n",
              "        545362.44,  533356.8 ,  590782.8 ,  429625.25], dtype=float32)"
            ]
          },
          "metadata": {},
          "execution_count": 19
        }
      ]
    },
    {
      "cell_type": "markdown",
      "source": [
        "We implement XGBoost on our training data and test it using the test data."
      ],
      "metadata": {
        "id": "AgfkPF_uWquX"
      }
    },
    {
      "cell_type": "markdown",
      "source": [
        "# Model Evaluation"
      ],
      "metadata": {
        "id": "itl1acx8VF_Q"
      }
    },
    {
      "cell_type": "code",
      "source": [
        "mse = mean_squared_error(y_test, y_pred)\n",
        "print(\"Mean Squared Error (MSE):\", mse)\n",
        "\n",
        "rmse = mean_squared_error(y_test, y_pred, squared=False)\n",
        "print(\"Root Mean Squared Error (RMSE):\", rmse)\n",
        "\n",
        "mae = mean_absolute_error(y_test, y_pred)\n",
        "print(\"Mean Absolute Error (MAE):\", mae)\n",
        "\n",
        "r2 = r2_score(y_test, y_pred)\n",
        "print(\"R-squared (R2):\", r2)\n"
      ],
      "metadata": {
        "colab": {
          "base_uri": "https://localhost:8080/"
        },
        "id": "lQ5Ga1IjVAOX",
        "outputId": "c130d6ef-216e-4807-e5dd-a1db1113b072"
      },
      "execution_count": 20,
      "outputs": [
        {
          "output_type": "stream",
          "name": "stdout",
          "text": [
            "Mean Squared Error (MSE): 104264041778.95546\n",
            "Root Mean Squared Error (RMSE): 322899.42982135393\n",
            "Mean Absolute Error (MAE): 171636.92255434784\n",
            "R-squared (R2): 0.5183668417289655\n"
          ]
        }
      ]
    },
    {
      "cell_type": "markdown",
      "source": [
        "\n",
        "We obtained an R-squared of 0.5183668417289655, which means the model is able to explain approximately 51.83% of the variance in our dataset. We want to improve our model using cross-validation to achieve better results."
      ],
      "metadata": {
        "id": "kfWf6qSGW0W-"
      }
    },
    {
      "cell_type": "markdown",
      "source": [
        "# Cross Validation"
      ],
      "metadata": {
        "id": "oAgGg3opWSo3"
      }
    },
    {
      "cell_type": "code",
      "source": [
        "from sklearn.model_selection import cross_val_score\n",
        "\n",
        "gbm = xgb.XGBRegressor(max_depth=3, n_estimators=300, learning_rate=0.05)\n",
        "\n",
        "cv_scores = cross_val_score(gbm, X_train, y_train, cv=5, scoring='r2')\n",
        "\n",
        "mean_r2 = np.mean(cv_scores)\n",
        "std_r2 = np.std(cv_scores)\n",
        "\n",
        "print(\"Cross-Validation Results R-squared (R2):\")\n",
        "print(\"Mean R2:\", mean_r2)\n",
        "print(\"Standard Deviation of R2:\", std_r2)"
      ],
      "metadata": {
        "colab": {
          "base_uri": "https://localhost:8080/"
        },
        "id": "pOEvRMADOrUm",
        "outputId": "2906bc2d-a842-45ad-ff28-e3a10d34520d"
      },
      "execution_count": 22,
      "outputs": [
        {
          "output_type": "stream",
          "name": "stdout",
          "text": [
            "Cross-Validation Results R-squared (R2):\n",
            "Mean R2: 0.49480021398390894\n",
            "Standard Deviation of R2: 0.2559894749574443\n"
          ]
        }
      ]
    },
    {
      "cell_type": "markdown",
      "source": [
        "Surprisingly, with the use of cross-validation, the R-squared of our model actually decreased to 49.48%. This means the best-performing model is the XGBoost model without cross-validation, with an R-squared of 51.83%."
      ],
      "metadata": {
        "id": "W_RHo1yrXVjI"
      }
    },
    {
      "cell_type": "markdown",
      "source": [
        "# Summary"
      ],
      "metadata": {
        "id": "ye1OQZFVYPNI"
      }
    },
    {
      "cell_type": "markdown",
      "source": [
        "so we can conclude that:\n",
        "\n",
        "- There is a strong correlation between price and area and also room.\n",
        "- The distribution of house prices is right-skewed, indicating that house prices tend to be lower. The correlation between price and area forms a linear relationship, meaning that as the area increases, the house price also increases.\n",
        "- 3 is the highest number of rooms.\n",
        "- We obtained our first model, XGBoost without cross-validation, with an R-squared of 51.83%. This means the model is able to explain 51.83% of the variance in our dataset.\n",
        "- We want to improve our model with cross validation but the R-squared of our model actually decreased to 49.48%. There are several possible reasons why the R-squared of the XGBoost model decreased after using cross-validation:\n",
        "\n",
        "1. Data Variability: Cross-validation involves splitting the data into multiple subsets (folds) and training the model on different combinations of training and validation sets. This can introduce variations in the training process, and the model may not perform consistently across all folds due to differences in data distribution.\n",
        "\n",
        "2. Model Generalization: The original XGBoost model might have overfitted the training data, resulting in a high R-squared. When using cross-validation, the model is evaluated on different subsets of data, which could reveal its lack of generalization to unseen data and lead to a lower R-squared.\n",
        "\n",
        "3. Limited Data Size: If the dataset is relatively small, cross-validation may not provide stable results, and the R-squared estimates could be more sensitive to fluctuations in the data.\n",
        "\n",
        "4. Hyperparameter Tuning: The initial XGBoost model might have been trained with specific hyperparameters that happened to work well for the given dataset. During cross-validation, different hyperparameter settings could be tested, leading to a less optimal model for this specific dataset.\n",
        "\n",
        "5. Model Complexity: Cross-validation might reveal that a simpler model could perform better than the original XGBoost model. A complex model could capture noise in the training data, resulting in a drop in performance on unseen data."
      ],
      "metadata": {
        "id": "ZPZlr1YKYZiH"
      }
    }
  ]
}